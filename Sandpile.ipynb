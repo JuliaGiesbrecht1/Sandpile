{
 "cells": [
  {
   "cell_type": "code",
   "execution_count": 14,
   "metadata": {},
   "outputs": [],
   "source": [
    "\"\"\"\n",
    "Sandpile - Julia Giesbrecht\n",
    "\n",
    "\"\"\"\n",
    "\n",
    "\n",
    "def printPile(pile):\n",
    "    \n",
    "    \"\"\"\n",
    "    prints the sandpile, a, nicely\n",
    "    \n",
    "        >>> printPile([[2,0,2],[0,3,0],[2,0,2]])\n",
    "    [2, 0, 2]\n",
    "    [0, 3, 0]\n",
    "    [2, 0, 2]\n",
    "    \n",
    "    \"\"\"\n",
    "    \n",
    "    for i in pile:\n",
    "        print(i)\n",
    "\n"
   ]
  },
  {
   "cell_type": "code",
   "execution_count": 15,
   "metadata": {},
   "outputs": [],
   "source": [
    "def isStablePile(pile):\n",
    "    \"\"\"\n",
    "    isStablePile(a): returns True if a is stable, i.e., all cells have values between 0 and 3, False otherwise\n",
    "    \n",
    "    >>> isStablePile([[0,1,2],[2,3,2],[0,0,1]])\n",
    "    True\n",
    "    >>> isStablePile([[0,4,0],[3,5,3],[1,2,3]])\n",
    "    False\n",
    "    \n",
    "    \"\"\"\n",
    "    for row in pile:\n",
    "        \n",
    "        for x in row:\n",
    "            if x>3:\n",
    "                return False \n",
    "        \n",
    "    return True\n",
    "    \n",
    "            \n"
   ]
  },
  {
   "cell_type": "code",
   "execution_count": 16,
   "metadata": {},
   "outputs": [],
   "source": [
    "def topplePile(pile):\n",
    "    \"\"\"\n",
    "        for a stable pile, just returns a, for an unstable pile it goes\n",
    "        through and topples any cells that are 4 or more and continues doing this \n",
    "        until the pile is stable (naturally, you must call isStablePile to see when you're done)\n",
    "        \n",
    "     >>> topplePile([[0,0,0],[0,4,0],[0,0,0]])\n",
    "    [[0, 1, 0], [1, 0, 1], [0, 1, 0]]\n",
    "    >>> topplePile([[4,0,0],[0,4,0],[0,0,0]])\n",
    "    [[0, 2, 0], [2, 0, 1], [0, 1, 0]]\n",
    "    >>> topplePile([[4,0,0],[0,10,0],[0,0,0]])\n",
    "    [[0, 3, 0], [3, 2, 2], [0, 2, 0]]\n",
    "    \"\"\"\n",
    "   \n",
    "    \n",
    "  \n",
    "    while isStablePile(pile) == False:\n",
    "        for row in range(3):\n",
    "            for column in range(3):\n",
    "                if pile[row][column] >=4:\n",
    "                    value = pile[row][column] -4 \n",
    "                    pile[row][column] = value\n",
    "                    if row+1 < 3: # checking row below\n",
    "                        pile[row+1][column] +=1\n",
    "                    if row-1 >= 0: # checking row above\n",
    "                        pile[row-1][column] +=1\n",
    "                    if column+1 < 3: # checking column right\n",
    "                        pile[row][column +1] +=1\n",
    "                    if column-1 >= 0: # checking column left\n",
    "                        pile[row][column-1] +=1\n",
    "    return pile\n",
    "        \n",
    "                \n"
   ]
  },
  {
   "cell_type": "code",
   "execution_count": 17,
   "metadata": {},
   "outputs": [],
   "source": [
    "def addPiles(pile1,pile2):  \n",
    "    \"\"\"addPiles(a,b): returns the resulting sandpile of adding sandpile a to sandpile b and toppling\n",
    "     >>> addPiles([[0,0,0],[0,2,0],[0,0,0]], [[0,0,0],[0,2,0],[0,0,0]])\n",
    "    [[0, 1, 0], [1, 0, 1], [0, 1, 0]]\n",
    "    >>> addPiles([[1,2,0],[2,1,1],[0,1,3]], [[2,1,3],[1,0,1],[0,1,0]])\n",
    "    [[3, 3, 3], [3, 1, 2], [0, 2, 3]]\n",
    "    \"\"\"\n",
    "    newpile = [[0, 0, 0], [0, 0, 0], [0, 0, 0]]\n",
    "    \n",
    "    for row in range(3):\n",
    "        for column in range(3):\n",
    "            newpile[row][column] = pile1[row][column] + pile2[row][column]\n",
    "            \n",
    "    return topplePile(newpile)\n",
    "\n",
    "            \n",
    "\n"
   ]
  },
  {
   "cell_type": "code",
   "execution_count": 18,
   "metadata": {},
   "outputs": [],
   "source": [
    "def zeroPile():\n",
    "\n",
    "    return [[2, 1, 2], [1, 0, 1], [2, 1, 2]]\n",
    "    "
   ]
  },
  {
   "cell_type": "code",
   "execution_count": 19,
   "metadata": {},
   "outputs": [],
   "source": [
    "def isInGroup(a):\n",
    "    \"\"\"\n",
    "        returns True if the sandpile a is in Dr. Garcia-Puente's S group. \n",
    "        The way to tell if a is in S is by adding a to the zero sandpile. \n",
    "        If 𝑎+0=𝑎 then a is in S, and if it doesn't equal itself when added to \n",
    "        the zero sandpile, then a is not in S.\n",
    "        \n",
    "     >>> isInGroup([[3,2,2],[2,1,1],[3,3,3]])\n",
    "    True\n",
    "    >>> isInGroup([[1,1,1],[1,1,1],[1,1,1]])\n",
    "    False\n",
    "    \n",
    "    \"\"\"\n",
    "    if addPiles(a,zeroPile()) == a:\n",
    "        return True\n",
    "    else:\n",
    "        return False\n",
    "    \n",
    " "
   ]
  },
  {
   "cell_type": "code",
   "execution_count": null,
   "metadata": {},
   "outputs": [],
   "source": []
  }
 ],
 "metadata": {
  "kernelspec": {
   "display_name": "Python 3",
   "language": "python",
   "name": "python3"
  },
  "language_info": {
   "codemirror_mode": {
    "name": "ipython",
    "version": 3
   },
   "file_extension": ".py",
   "mimetype": "text/x-python",
   "name": "python",
   "nbconvert_exporter": "python",
   "pygments_lexer": "ipython3",
   "version": "3.8.5"
  }
 },
 "nbformat": 4,
 "nbformat_minor": 4
}
